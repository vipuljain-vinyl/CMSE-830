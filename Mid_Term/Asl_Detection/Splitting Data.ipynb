{
 "cells": [
  {
   "cell_type": "code",
   "execution_count": null,
   "id": "2c7ce583",
   "metadata": {},
   "outputs": [],
   "source": [
    "import os\n",
    "import shutil\n",
    "from random import sample"
   ]
  },
  {
   "cell_type": "code",
   "execution_count": 8,
   "id": "5f037b01",
   "metadata": {},
   "outputs": [],
   "source": [
    "def split_data(source_folder, train_folder, val_folder, split_ratio=0.8):\n",
    "    # Create 'train' and 'val' folders if they don't exist\n",
    "    os.makedirs(train_folder, exist_ok=True)\n",
    "    os.makedirs(val_folder, exist_ok=True)\n",
    "\n",
    "    # List all subfolders in the source folder\n",
    "    subfolders = [f.path for f in os.scandir(source_folder) if f.is_dir()]\n",
    "\n",
    "    for folder in subfolders:\n",
    "        # Create 'train' and 'val' subfolders within the destination folders\n",
    "        train_subfolder = os.path.join(train_folder, os.path.basename(folder))\n",
    "        val_subfolder = os.path.join(val_folder, os.path.basename(folder))\n",
    "        os.makedirs(train_subfolder, exist_ok=True)\n",
    "        os.makedirs(val_subfolder, exist_ok=True)\n",
    "\n",
    "        # List all files in the current subfolder\n",
    "        all_files = os.listdir(folder)\n",
    "\n",
    "        # Calculate the number of files to move to the validation set\n",
    "        num_val_files = int((1-split_ratio) * len(all_files))\n",
    "\n",
    "        # Randomly select files for validation\n",
    "        val_files = sample(all_files, num_val_files)\n",
    "\n",
    "        # Move files to the 'val' folder\n",
    "        for file_name in val_files:\n",
    "            source_path = os.path.join(folder, file_name)\n",
    "            val_path = os.path.join(val_subfolder, file_name)\n",
    "            shutil.move(source_path, val_path)\n",
    "\n",
    "        # Move the remaining files to the 'train' folder\n",
    "        for file_name in os.listdir(folder):\n",
    "            source_path = os.path.join(folder, file_name)\n",
    "            train_path = os.path.join(train_subfolder, file_name)\n",
    "            shutil.move(source_path, train_path)\n",
    "\n",
    "# Example usage\n",
    "source_folder = 'C:/Users/vipul/Documents/MSU - MSDS/CMSE/Project mid term/ASL_Dataset/Train'\n",
    "train_folder = 'C:/Users/vipul/Documents/MSU - MSDS/CMSE/Project mid term/ASL_Dataset/Train_split'\n",
    "val_folder = 'C:/Users/vipul/Documents/MSU - MSDS/CMSE/Project mid term/ASL_Dataset/Val_split'\n",
    "split_ratio = 0.8\n",
    "\n",
    "split_data(source_folder, train_folder, val_folder, split_ratio)"
   ]
  },
  {
   "cell_type": "code",
   "execution_count": null,
   "id": "a1168e2b",
   "metadata": {},
   "outputs": [],
   "source": []
  }
 ],
 "metadata": {
  "kernelspec": {
   "display_name": "Python 3 (ipykernel)",
   "language": "python",
   "name": "python3"
  },
  "language_info": {
   "codemirror_mode": {
    "name": "ipython",
    "version": 3
   },
   "file_extension": ".py",
   "mimetype": "text/x-python",
   "name": "python",
   "nbconvert_exporter": "python",
   "pygments_lexer": "ipython3",
   "version": "3.11.4"
  }
 },
 "nbformat": 4,
 "nbformat_minor": 5
}
